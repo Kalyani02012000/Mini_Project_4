{
 "cells": [
  {
   "cell_type": "markdown",
   "id": "307080ed",
   "metadata": {},
   "source": [
    "# 1. Data Understanding and Cleaning"
   ]
  },
  {
   "cell_type": "code",
   "execution_count": 13,
   "id": "0e82ab99",
   "metadata": {},
   "outputs": [
    {
     "name": "stdout",
     "output_type": "stream",
     "text": [
      "Initial Columns: ['name', 'cuisine', 'rating', 'rating_count', 'cost', 'sub_city', 'main_city']\n"
     ]
    }
   ],
   "source": [
    "# Step 1: Import Libraries,Load Dataset and Select Required Columns\n",
    "import pandas as pd\n",
    "import numpy as np\n",
    "\n",
    "df = pd.read_csv(\"swiggy.csv\")\n",
    "required_columns = ['name', 'city', 'cuisine', 'rating', 'rating_count', 'cost']\n",
    "df = df[required_columns]\n",
    "\n",
    "# Split 'city' into 'sub_city' and 'main_city'\n",
    "city_split = df['city'].str.split(',', n=1, expand=True)\n",
    "df['sub_city'] = city_split[0].str.strip()\n",
    "df['main_city'] = city_split[1].str.strip() if city_split.shape[1] > 1 else None\n",
    "\n",
    "# Drop original 'city' column\n",
    "df = df.drop(columns=['city'])\n",
    "\n",
    "#Viewing Columns\n",
    "print(\"Initial Columns:\", df.columns.tolist())"
   ]
  },
  {
   "cell_type": "code",
   "execution_count": 14,
   "id": "38bf8c68",
   "metadata": {},
   "outputs": [
    {
     "name": "stdout",
     "output_type": "stream",
     "text": [
      "Data types after conversion:\n",
      " name             object\n",
      "cuisine          object\n",
      "rating          float64\n",
      "rating_count      Int64\n",
      "cost              Int64\n",
      "sub_city         object\n",
      "main_city        object\n",
      "dtype: object\n"
     ]
    }
   ],
   "source": [
    "# Step 2: Data Cleaning and Type Conversion \n",
    "\n",
    "# Rating\n",
    "df['rating'] = pd.to_numeric(df['rating'].replace('--', pd.NA), errors='coerce')\n",
    "\n",
    "# Rating Count\n",
    "df['rating_count'] = df['rating_count'].str.replace(r'[^0-9]', '', regex=True)\n",
    "df['rating_count'] = pd.to_numeric(df['rating_count'], errors='coerce').astype('Int64')\n",
    "\n",
    "# Cost\n",
    "df['cost'] = df['cost'].str.replace(r'[^\\d]', '', regex=True)\n",
    "df['cost'] = pd.to_numeric(df['cost'], errors='coerce').astype('Int64')\n",
    "\n",
    "print(\"Data types after conversion:\\n\", df.dtypes)"
   ]
  },
  {
   "cell_type": "code",
   "execution_count": 15,
   "id": "ed9771aa",
   "metadata": {},
   "outputs": [
    {
     "name": "stdout",
     "output_type": "stream",
     "text": [
      "Duplicates before: 35\n",
      "Duplicates after: 0\n",
      "Missing values after cleaning:\n",
      " name            0\n",
      "cuisine         0\n",
      "rating          0\n",
      "rating_count    0\n",
      "cost            0\n",
      "sub_city        0\n",
      "main_city       0\n",
      "dtype: int64\n"
     ]
    }
   ],
   "source": [
    "# Step 3: Drop Duplicates and Handle Missing \n",
    "\n",
    "print(\"Duplicates before:\", df.duplicated().sum())\n",
    "df = df.drop_duplicates()\n",
    "print(\"Duplicates after:\", df.duplicated().sum())\n",
    "\n",
    "# Handle missing\n",
    "df = df.dropna(subset=['name', 'sub_city', 'main_city'])\n",
    "df['cuisine'] = df['cuisine'].fillna('Unknown')\n",
    "df['rating'] = df['rating'].fillna(df['rating'].median())\n",
    "df['rating_count'] = df['rating_count'].fillna(0).astype(int)\n",
    "df['cost'] = df['cost'].fillna(df['cost'].median()).astype(int)\n",
    "\n",
    "print(\"Missing values after cleaning:\\n\", df.isna().sum())\n",
    "df.to_csv(\"cleaned_data.csv\", index=False)"
   ]
  },
  {
   "cell_type": "markdown",
   "id": "b6959d39",
   "metadata": {},
   "source": [
    "# 2. Data Preprocessing"
   ]
  },
  {
   "cell_type": "code",
   "execution_count": null,
   "id": "5c3314e7",
   "metadata": {},
   "outputs": [
    {
     "name": "stderr",
     "output_type": "stream",
     "text": [
      "<>:24: SyntaxWarning: invalid escape sequence '\\s'\n",
      "<>:24: SyntaxWarning: invalid escape sequence '\\s'\n",
      "C:\\Users\\Satya\\AppData\\Local\\Temp\\ipykernel_4652\\829157849.py:24: SyntaxWarning: invalid escape sequence '\\s'\n",
      "  df['cuisine'] = df['cuisine'].str.split(',\\s*')\n"
     ]
    },
    {
     "name": "stdout",
     "output_type": "stream",
     "text": [
      "All features numeric: True\n"
     ]
    }
   ],
   "source": [
    "# Step 4: Encoding\n",
    "from sklearn.preprocessing import LabelEncoder, OneHotEncoder, MultiLabelBinarizer\n",
    "import pickle\n",
    "\n",
    "df = pd.read_csv(\"cleaned_data.csv\")\n",
    "\n",
    "# Label Encode restaurant name\n",
    "le = LabelEncoder()\n",
    "df['name_encoded'] = le.fit_transform(df['name'])\n",
    "with open(\"label_encoder_name.pkl\", \"wb\") as f:\n",
    "    pickle.dump(le, f)\n",
    "\n",
    "# One-Hot Encode sub_city and main_city\n",
    "city_encoder = OneHotEncoder(sparse_output=False, handle_unknown='ignore')\n",
    "city_encoded = pd.DataFrame(\n",
    "    city_encoder.fit_transform(df[['sub_city', 'main_city']]),\n",
    "    columns=city_encoder.get_feature_names_out(['sub_city', 'main_city'])\n",
    ")\n",
    "\n",
    "with open(\"city_encoder.pkl\", \"wb\") as f:\n",
    "    pickle.dump(city_encoder, f)\n",
    "\n",
    "# Split 'cuisine' into multiple labels\n",
    "df['cuisine'] = df['cuisine'].str.split(',\\s*')\n",
    "mlb = MultiLabelBinarizer()\n",
    "cuisine_encoded = pd.DataFrame(mlb.fit_transform(df['cuisine']), columns=mlb.classes_)\n",
    "\n",
    "with open(\"cuisine_encoder.pkl\", \"wb\") as f:\n",
    "    pickle.dump(mlb, f)\n",
    "\n",
    "# Final dataframe\n",
    "numerical = df[['rating', 'rating_count', 'cost', 'name_encoded']].reset_index(drop=True)\n",
    "final_df = pd.concat([numerical, city_encoded, cuisine_encoded], axis=1)\n",
    "print(\"All features numeric:\", final_df.dtypes.apply(pd.api.types.is_numeric_dtype).all())\n",
    "\n",
    "final_df.to_csv(\"final_encoded_data.csv\", index=False)"
   ]
  },
  {
   "cell_type": "markdown",
   "id": "5305ae5b",
   "metadata": {},
   "source": [
    "# 3. Recommendation Methodology"
   ]
  },
  {
   "cell_type": "code",
   "execution_count": 5,
   "id": "77382d5e",
   "metadata": {},
   "outputs": [
    {
     "data": {
      "image/png": "[encoded data removed]",
      "text/plain": [
       "<Figure size 800x400 with 1 Axes>"
      ]
     },
     "metadata": {},
     "output_type": "display_data"
    }
   ],
   "source": [
    "# Step 5: Clustering \n",
    "from sklearn.preprocessing import StandardScaler\n",
    "from sklearn.decomposition import PCA\n",
    "from sklearn.cluster import KMeans\n",
    "import matplotlib.pyplot as plt\n",
    "import seaborn as sns\n",
    "\n",
    "df_encoded = pd.read_csv(\"final_encoded_data.csv\")\n",
    "\n",
    "# Scaling\n",
    "scaler = StandardScaler()\n",
    "scaled_data = scaler.fit_transform(df_encoded)\n",
    "\n",
    "# PCA to reduce dimensions\n",
    "pca = PCA(n_components=30, random_state=42)\n",
    "reduced_data = pca.fit_transform(scaled_data)\n",
    "\n",
    "# Elbow method\n",
    "inertia = []\n",
    "for k in range(1, 11):\n",
    "    kmeans = KMeans(n_clusters=k, random_state=42)\n",
    "    kmeans.fit(reduced_data)\n",
    "    inertia.append(kmeans.inertia_)\n",
    "\n",
    "plt.figure(figsize=(8, 4))\n",
    "sns.lineplot(x=range(1, 11), y=inertia, marker='o')\n",
    "plt.xlabel(\"Number of Clusters (K)\")\n",
    "plt.ylabel(\"Inertia\")\n",
    "plt.title(\"Elbow Method for Optimal K\")\n",
    "plt.grid(True)\n",
    "plt.show()"
   ]
  },
  {
   "cell_type": "code",
   "execution_count": 18,
   "id": "f0f1a2d1",
   "metadata": {},
   "outputs": [
    {
     "name": "stdout",
     "output_type": "stream",
     "text": [
      "Cluster counts:\n",
      " cluster\n",
      "3    88382\n",
      "1    56787\n",
      "2     2416\n",
      "0      860\n",
      "Name: count, dtype: int64\n"
     ]
    }
   ],
   "source": [
    "# Step 6: Apply KMeans with Optimal K \n",
    "optimal_k = 4\n",
    "kmeans = KMeans(n_clusters=optimal_k, random_state=42)\n",
    "clusters = kmeans.fit_predict(reduced_data)\n",
    "df_encoded['cluster'] = clusters\n",
    "\n",
    "# Save\n",
    "df_encoded.to_csv(\"final_encoded_data.csv\", index=False)\n",
    "print(\"Cluster counts:\\n\", df_encoded['cluster'].value_counts())"
   ]
  },
  {
   "cell_type": "code",
   "execution_count": 19,
   "id": "09237384",
   "metadata": {},
   "outputs": [
    {
     "name": "stdout",
     "output_type": "stream",
     "text": [
      "Cluster labels mapped and saved to 'clustered_cleaned_data.csv'\n"
     ]
    }
   ],
   "source": [
    "# Step 7: Map Cluster Labels to Original Data \n",
    "original_df = pd.read_csv(\"cleaned_data.csv\")\n",
    "encoded_df = pd.read_csv(\"final_encoded_data.csv\")\n",
    "\n",
    "# Align indices\n",
    "original_df = original_df.reset_index(drop=True)\n",
    "encoded_df = encoded_df.reset_index(drop=True)\n",
    "\n",
    "# Assign cluster\n",
    "original_df['cluster'] = encoded_df['cluster']\n",
    "original_df.to_csv(\"clustered_cleaned_data.csv\", index=False)\n",
    "print(\"Cluster labels mapped and saved to 'clustered_cleaned_data.csv'\")"
   ]
  }
 ],
 "metadata": {
  "kernelspec": {
   "display_name": ".venv",
   "language": "python",
   "name": "python3"
  },
  "language_info": {
   "codemirror_mode": {
    "name": "ipython",
    "version": 3
   },
   "file_extension": ".py",
   "mimetype": "text/x-python",
   "name": "python",
   "nbconvert_exporter": "python",
   "pygments_lexer": "ipython3",
   "version": "3.12.5"
  }
 },
 "nbformat": 4,
 "nbformat_minor": 5
}
